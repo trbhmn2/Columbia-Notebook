{
 "cells": [
  {
   "cell_type": "code",
   "execution_count": 25,
   "id": "a6305dc8",
   "metadata": {},
   "outputs": [],
   "source": [
    "import numpy as np\n",
    "import pandas as pd\n",
    "import nltk\n",
    "DF = pd.read_csv('/Users/23behmen_t/Downloads/TWT Data1.csv', index_col=0)"
   ]
  },
  {
   "cell_type": "markdown",
   "id": "6bdcf6ad",
   "metadata": {},
   "source": [
    "# Data Pre-Processing"
   ]
  },
  {
   "cell_type": "code",
   "execution_count": 27,
   "id": "b0838caa",
   "metadata": {},
   "outputs": [
    {
     "name": "stdout",
     "output_type": "stream",
     "text": [
      "['This', 'is', 'a', 'class', 'at', 'Columbia', 'University']\n"
     ]
    }
   ],
   "source": [
    "sentence = \"This is a class at Columbia University\"\n",
    "tokens = nltk.word_tokenize(sentence)\n",
    "print(tokens)"
   ]
  },
  {
   "cell_type": "code",
   "execution_count": 35,
   "id": "1a8b1cdb",
   "metadata": {},
   "outputs": [
    {
     "name": "stdout",
     "output_type": "stream",
     "text": [
      "['This', 'Columbia', 'University', 'class']\n"
     ]
    }
   ],
   "source": [
    "#removing stop words eg; is, a, at\n",
    "from nltk.corpus import stopwords\n",
    "\n",
    "stop_words = stopwords.words('english')\n",
    "filtered_tokens = [w for w in tokens if w not in stop_words]\n",
    "print(filtered_tokens)"
   ]
  },
  {
   "cell_type": "code",
   "execution_count": 38,
   "id": "4008418a",
   "metadata": {},
   "outputs": [
    {
     "name": "stdout",
     "output_type": "stream",
     "text": [
      "cook cook cook cook\n"
     ]
    }
   ],
   "source": [
    "#finding stems of each token word, as they are the ones used in NLP\n",
    "snowball_stemmer = nltk.stem.SnowballStemmer('english')\n",
    "\n",
    "s_1 = snowball_stemmer.stem(\"cook\")\n",
    "s_2 = snowball_stemmer.stem(\"cooks\")\n",
    "s_3 = snowball_stemmer.stem(\"cooked\")\n",
    "s_4 = snowball_stemmer.stem(\"cooking\")\n",
    "\n",
    "print(s_1,s_2,s_3,s_4)"
   ]
  },
  {
   "cell_type": "code",
   "execution_count": null,
   "id": "7e4f996b",
   "metadata": {},
   "outputs": [],
   "source": []
  }
 ],
 "metadata": {
  "kernelspec": {
   "display_name": "Python 3",
   "language": "python",
   "name": "python3"
  },
  "language_info": {
   "codemirror_mode": {
    "name": "ipython",
    "version": 3
   },
   "file_extension": ".py",
   "mimetype": "text/x-python",
   "name": "python",
   "nbconvert_exporter": "python",
   "pygments_lexer": "ipython3",
   "version": "3.8.8"
  }
 },
 "nbformat": 4,
 "nbformat_minor": 5
}
