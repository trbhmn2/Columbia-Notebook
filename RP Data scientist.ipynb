{
 "cells": [
  {
   "cell_type": "code",
   "execution_count": 101,
   "id": "ad81feb6",
   "metadata": {},
   "outputs": [],
   "source": [
    "import numpy as np\n",
    "import pandas as pd\n",
    "\n",
    "pd.options.display.max_columns=100\n",
    "pd.options.display.max_rows=100\n",
    "\n",
    "\n",
    "DF = pd.read_csv('/Users/23behmen_t/Downloads/Columbia.csv', index_col=0)"
   ]
  },
  {
   "cell_type": "code",
   "execution_count": 102,
   "id": "a1bdd353",
   "metadata": {},
   "outputs": [
    {
     "data": {
      "text/html": [
       "<div>\n",
       "<style scoped>\n",
       "    .dataframe tbody tr th:only-of-type {\n",
       "        vertical-align: middle;\n",
       "    }\n",
       "\n",
       "    .dataframe tbody tr th {\n",
       "        vertical-align: top;\n",
       "    }\n",
       "\n",
       "    .dataframe thead th {\n",
       "        text-align: right;\n",
       "    }\n",
       "</style>\n",
       "<table border=\"1\" class=\"dataframe\">\n",
       "  <thead>\n",
       "    <tr style=\"text-align: right;\">\n",
       "      <th></th>\n",
       "      <th>CLI</th>\n",
       "    </tr>\n",
       "    <tr>\n",
       "      <th>id</th>\n",
       "      <th></th>\n",
       "    </tr>\n",
       "  </thead>\n",
       "  <tbody>\n",
       "    <tr>\n",
       "      <th>1071795</th>\n",
       "      <td>5600</td>\n",
       "    </tr>\n",
       "    <tr>\n",
       "      <th>1068906</th>\n",
       "      <td>8200</td>\n",
       "    </tr>\n",
       "    <tr>\n",
       "      <th>1068416</th>\n",
       "      <td>7200</td>\n",
       "    </tr>\n",
       "    <tr>\n",
       "      <th>1068575</th>\n",
       "      <td>15300</td>\n",
       "    </tr>\n",
       "  </tbody>\n",
       "</table>\n",
       "</div>"
      ],
      "text/plain": [
       "           CLI\n",
       "id            \n",
       "1071795   5600\n",
       "1068906   8200\n",
       "1068416   7200\n",
       "1068575  15300"
      ]
     },
     "execution_count": 102,
     "metadata": {},
     "output_type": "execute_result"
    }
   ],
   "source": [
    "DF.loc[DF['grade']=='F', ['CLI']]"
   ]
  },
  {
   "cell_type": "code",
   "execution_count": 103,
   "id": "17d62e12",
   "metadata": {},
   "outputs": [
    {
     "data": {
      "text/plain": [
       "member_id                                                                1303528\n",
       "CLI                                                                         8200\n",
       "term                                                                   60 months\n",
       "int_rate                                                                   21.28\n",
       "installment                                                               223.14\n",
       "grade                                                                          F\n",
       "sub_grade                                                                     F2\n",
       "emp_title                                                               autozone\n",
       "emp_length                                                               4 years\n",
       "home_ownership                                                              RENT\n",
       "annual_inc                                                               75000.0\n",
       "verification_status                                              Source Verified\n",
       "loan_status                                                          Charged Off\n",
       "pymnt_plan                                                                     n\n",
       "desc                             Borrower added on 12/15/11 > Business/credit...\n",
       "purpose                                                           small_business\n",
       "title                                                        Small_Business Loan\n",
       "zip_code                                                                   912xx\n",
       "addr_state                                                                    CA\n",
       "dti                                                                        12.48\n",
       "delinq_2yrs                                                                    0\n",
       "earliest_cr_line                                                          Jan-00\n",
       "inq_last_6mths                                                                 3\n",
       "mths_since_last_delinq                                                       NaN\n",
       "mths_since_last_record                                                       NaN\n",
       "open_acc                                                                       6\n",
       "pub_rec                                                                        0\n",
       "revol_bal                                                                   9012\n",
       "revol_util                                                                  73.9\n",
       "total_acc                                                                     11\n",
       "initial_list_status                                                            f\n",
       "out_prncp                                                                    0.0\n",
       "out_prncp_inv                                                                0.0\n",
       "total_pymnt                                                              4173.57\n",
       "total_pymnt_inv                                                          4173.57\n",
       "total_rec_prncp                                                          1525.83\n",
       "total_rec_int                                                            2265.85\n",
       "total_rec_late_fee                                                           0.0\n",
       "recoveries                                                                381.89\n",
       "collection_recovery_fee                                                      3.6\n",
       "last_pymnt_d                                                              13-Jun\n",
       "last_pymnt_amnt                                                           223.14\n",
       "next_pymnt_d                                                                 NaN\n",
       "last_credit_pull_d                                                        13-Oct\n",
       "collections_12_mths_ex_med                                                     0\n",
       "mths_since_last_major_derog                                                  NaN\n",
       "policy_code                                                                    1\n",
       "application_type                                                      INDIVIDUAL\n",
       "annual_inc_joint                                                             NaN\n",
       "dti_joint                                                                    NaN\n",
       "verification_status_joint                                                    NaN\n",
       "acc_now_delinq                                                                 0\n",
       "tot_coll_amt                                                                 NaN\n",
       "tot_cur_bal                                                                  NaN\n",
       "open_acc_6m                                                                  NaN\n",
       "open_il_6m                                                                   NaN\n",
       "open_il_12m                                                                  NaN\n",
       "open_il_24m                                                                  NaN\n",
       "mths_since_rcnt_il                                                           NaN\n",
       "total_bal_il                                                                 NaN\n",
       "il_util                                                                      NaN\n",
       "open_rv_12m                                                                  NaN\n",
       "open_rv_24m                                                                  NaN\n",
       "max_bal_bc                                                                   NaN\n",
       "all_util                                                                     NaN\n",
       "total_rev_hi_lim                                                             NaN\n",
       "inq_fi                                                                       NaN\n",
       "total_cu_tl                                                                  NaN\n",
       "inq_last_12m                                                                 NaN\n",
       "Name: 1068906, dtype: object"
      ]
     },
     "execution_count": 103,
     "metadata": {},
     "output_type": "execute_result"
    }
   ],
   "source": [
    "DF.loc[1068906]"
   ]
  },
  {
   "cell_type": "code",
   "execution_count": null,
   "id": "9f3e5a4e",
   "metadata": {},
   "outputs": [],
   "source": []
  }
 ],
 "metadata": {
  "kernelspec": {
   "display_name": "Python 3",
   "language": "python",
   "name": "python3"
  },
  "language_info": {
   "codemirror_mode": {
    "name": "ipython",
    "version": 3
   },
   "file_extension": ".py",
   "mimetype": "text/x-python",
   "name": "python",
   "nbconvert_exporter": "python",
   "pygments_lexer": "ipython3",
   "version": "3.8.8"
  }
 },
 "nbformat": 4,
 "nbformat_minor": 5
}
