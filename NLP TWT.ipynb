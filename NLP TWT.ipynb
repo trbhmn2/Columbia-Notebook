{
 "cells": [
  {
   "cell_type": "code",
   "execution_count": 91,
   "id": "49fc2d0b",
   "metadata": {},
   "outputs": [],
   "source": [
    "import pyprind\n",
    "import pandas as pd\n",
    "import numpy as np\n",
    "import os\n",
    "import nltk\n",
    "import re\n",
    "from nltk.corpus import stopwords\n",
    "stop = stopwords.words('english')\n",
    "from nltk.stem.porter import PorterStemmer\n",
    "from sklearn.feature_extraction.text import CountVectorizer\n",
    "from sklearn.feature_extraction.text import TfidfTransformer\n",
    "# the Twitter message data is stored TWT Data1 CSV file and loaded to a dataframe df   (saved as UTF)\n",
    "df=pd.read_csv('/Users/23behmen_t/Downloads/TWT Data1.csv')"
   ]
  },
  {
   "cell_type": "code",
   "execution_count": 74,
   "id": "8ca39808",
   "metadata": {},
   "outputs": [
    {
     "data": {
      "text/html": [
       "<div>\n",
       "<style scoped>\n",
       "    .dataframe tbody tr th:only-of-type {\n",
       "        vertical-align: middle;\n",
       "    }\n",
       "\n",
       "    .dataframe tbody tr th {\n",
       "        vertical-align: top;\n",
       "    }\n",
       "\n",
       "    .dataframe thead th {\n",
       "        text-align: right;\n",
       "    }\n",
       "</style>\n",
       "<table border=\"1\" class=\"dataframe\">\n",
       "  <thead>\n",
       "    <tr style=\"text-align: right;\">\n",
       "      <th></th>\n",
       "      <th>Person ID</th>\n",
       "      <th>Message</th>\n",
       "      <th>Sentiment</th>\n",
       "    </tr>\n",
       "  </thead>\n",
       "  <tbody>\n",
       "    <tr>\n",
       "      <th>0</th>\n",
       "      <td>1</td>\n",
       "      <td>I followed those and was not offered to speak ...</td>\n",
       "      <td>Neutral</td>\n",
       "    </tr>\n",
       "    <tr>\n",
       "      <th>1</th>\n",
       "      <td>2</td>\n",
       "      <td>Hi, I paid my payment 2 days ago and would be ...</td>\n",
       "      <td>Negative</td>\n",
       "    </tr>\n",
       "    <tr>\n",
       "      <th>2</th>\n",
       "      <td>3</td>\n",
       "      <td>I just gotta let the world know. @CreditOneBan...</td>\n",
       "      <td>Negative</td>\n",
       "    </tr>\n",
       "    <tr>\n",
       "      <th>3</th>\n",
       "      <td>4</td>\n",
       "      <td>@NASCARSW42 @KyleLarsonRacin @CreditOneBank @c...</td>\n",
       "      <td>Positive</td>\n",
       "    </tr>\n",
       "    <tr>\n",
       "      <th>4</th>\n",
       "      <td>5</td>\n",
       "      <td>@NASCARSW42 @kyleLarsonRacin @CreditOneBank @c...</td>\n",
       "      <td>Negative</td>\n",
       "    </tr>\n",
       "    <tr>\n",
       "      <th>5</th>\n",
       "      <td>6</td>\n",
       "      <td>Checkered Flag! @JoshParker81 brings the No.42...</td>\n",
       "      <td>Positive</td>\n",
       "    </tr>\n",
       "    <tr>\n",
       "      <th>6</th>\n",
       "      <td>7</td>\n",
       "      <td>@NASCARSW42 @KyleLarsonRacin @CreditoneBgnk @c...</td>\n",
       "      <td>Neutral</td>\n",
       "    </tr>\n",
       "    <tr>\n",
       "      <th>7</th>\n",
       "      <td>8</td>\n",
       "      <td>I called to complain about my card, i tried to...</td>\n",
       "      <td>Negative</td>\n",
       "    </tr>\n",
       "    <tr>\n",
       "      <th>8</th>\n",
       "      <td>9</td>\n",
       "      <td>ch@CocaColaRacing @CreditOneBank @NASCAR</td>\n",
       "      <td>Neutral</td>\n",
       "    </tr>\n",
       "    <tr>\n",
       "      <th>9</th>\n",
       "      <td>10</td>\n",
       "      <td>https: //twitter.com/JohnPaysor/status/1159533...</td>\n",
       "      <td>Neutral</td>\n",
       "    </tr>\n",
       "    <tr>\n",
       "      <th>10</th>\n",
       "      <td>11</td>\n",
       "      <td>@CreditOneBank My card still hasn't shown up i...</td>\n",
       "      <td>Negative</td>\n",
       "    </tr>\n",
       "  </tbody>\n",
       "</table>\n",
       "</div>"
      ],
      "text/plain": [
       "    Person ID                                            Message Sentiment\n",
       "0           1  I followed those and was not offered to speak ...   Neutral\n",
       "1           2  Hi, I paid my payment 2 days ago and would be ...  Negative\n",
       "2           3  I just gotta let the world know. @CreditOneBan...  Negative\n",
       "3           4  @NASCARSW42 @KyleLarsonRacin @CreditOneBank @c...  Positive\n",
       "4           5  @NASCARSW42 @kyleLarsonRacin @CreditOneBank @c...  Negative\n",
       "5           6  Checkered Flag! @JoshParker81 brings the No.42...  Positive\n",
       "6           7  @NASCARSW42 @KyleLarsonRacin @CreditoneBgnk @c...   Neutral\n",
       "7           8  I called to complain about my card, i tried to...  Negative\n",
       "8           9           ch@CocaColaRacing @CreditOneBank @NASCAR   Neutral\n",
       "9          10  https: //twitter.com/JohnPaysor/status/1159533...   Neutral\n",
       "10         11  @CreditOneBank My card still hasn't shown up i...  Negative"
      ]
     },
     "execution_count": 74,
     "metadata": {},
     "output_type": "execute_result"
    }
   ],
   "source": [
    "df.head(11)"
   ]
  },
  {
   "cell_type": "code",
   "execution_count": 75,
   "id": "545226d9",
   "metadata": {},
   "outputs": [
    {
     "data": {
      "text/plain": [
       "Person ID     int64\n",
       "Message      object\n",
       "Sentiment    object\n",
       "dtype: object"
      ]
     },
     "execution_count": 75,
     "metadata": {},
     "output_type": "execute_result"
    }
   ],
   "source": [
    "df.dtypes"
   ]
  },
  {
   "cell_type": "code",
   "execution_count": 76,
   "id": "9382908b",
   "metadata": {},
   "outputs": [
    {
     "data": {
      "text/plain": [
       "0      I followed those and was not offered to speak ...\n",
       "1      Hi, I paid my payment 2 days ago and would be ...\n",
       "2      I just gotta let the world know. @CreditOneBan...\n",
       "3      @NASCARSW42 @KyleLarsonRacin @CreditOneBank @c...\n",
       "4      @NASCARSW42 @kyleLarsonRacin @CreditOneBank @c...\n",
       "                             ...                        \n",
       "306    Hi I'm currently traveling in europe but havin...\n",
       "307    Hi, I need assistance with my account and I'm ...\n",
       "308    I’m not sure this is the right place to ask th...\n",
       "309    https://twitter.com/messages/med That’s just t...\n",
       "310    Hello! i applied for your credit card and i’ve...\n",
       "Name: Message, Length: 311, dtype: object"
      ]
     },
     "execution_count": 76,
     "metadata": {},
     "output_type": "execute_result"
    }
   ],
   "source": [
    "df['Message']"
   ]
  },
  {
   "cell_type": "code",
   "execution_count": 77,
   "id": "06289db0",
   "metadata": {},
   "outputs": [
    {
     "data": {
      "text/plain": [
       "<bound method Series.count of 0      I followed those and was not offered to speak ...\n",
       "1      Hi, I paid my payment 2 days ago and would be ...\n",
       "2      I just gotta let the world know. @CreditOneBan...\n",
       "3      @NASCARSW42 @KyleLarsonRacin @CreditOneBank @c...\n",
       "4      @NASCARSW42 @kyleLarsonRacin @CreditOneBank @c...\n",
       "                             ...                        \n",
       "306    Hi I'm currently traveling in europe but havin...\n",
       "307    Hi, I need assistance with my account and I'm ...\n",
       "308    I’m not sure this is the right place to ask th...\n",
       "309    https://twitter.com/messages/med That’s just t...\n",
       "310    Hello! i applied for your credit card and i’ve...\n",
       "Name: Message, Length: 311, dtype: object>"
      ]
     },
     "execution_count": 77,
     "metadata": {},
     "output_type": "execute_result"
    }
   ],
   "source": [
    "df['Message'].count"
   ]
  },
  {
   "cell_type": "code",
   "execution_count": 78,
   "id": "98aaaf65",
   "metadata": {},
   "outputs": [
    {
     "data": {
      "text/plain": [
       "Person ID    0\n",
       "Message      0\n",
       "Sentiment    0\n",
       "dtype: int64"
      ]
     },
     "execution_count": 78,
     "metadata": {},
     "output_type": "execute_result"
    }
   ],
   "source": [
    "df.isnull().sum()"
   ]
  },
  {
   "cell_type": "code",
   "execution_count": 79,
   "id": "0e5e41cd",
   "metadata": {},
   "outputs": [
    {
     "data": {
      "text/plain": [
       "\"@CreditOneBank My card still hasn't shown up in the mail, it's been 9 days or so since being approved\""
      ]
     },
     "execution_count": 79,
     "metadata": {},
     "output_type": "execute_result"
    }
   ],
   "source": [
    "# [0:] is length of the characters\n",
    "# this is the way to finally find the string of the message for when using NLP\n",
    "df.loc[10, 'Message'][0:]"
   ]
  },
  {
   "cell_type": "code",
   "execution_count": 80,
   "id": "f5d842f1",
   "metadata": {},
   "outputs": [],
   "source": [
    "def preprocessor(text):\n",
    "    text = re.sub('<[^>]*>', '', text)\n",
    "    emoticons = re.findall('(?::|;|=)(?:-)?(?:\\)|\\(|D|P)',\n",
    "                           text)\n",
    "    text = (re.sub('[\\W]+', ' ', text.lower()) +\n",
    "            ' '.join(emoticons).replace('-', ''))\n",
    "    text = text.replace('â', '')\n",
    "\n",
    "    return text"
   ]
  },
  {
   "cell_type": "code",
   "execution_count": 81,
   "id": "b142cc50",
   "metadata": {},
   "outputs": [
    {
     "data": {
      "text/plain": [
       "0      i followed those and was not offered to speak ...\n",
       "1      hi i paid my payment 2 days ago and would be c...\n",
       "2      i just gotta let the world know creditonebank ...\n",
       "3       nascarsw42 kylelarsonracin creditonebank clov...\n",
       "4       nascarsw42 kylelarsonracin creditonebank clov...\n",
       "                             ...                        \n",
       "306    hi i m currently traveling in europe but havin...\n",
       "307    hi i need assistance with my account and i m n...\n",
       "308    i m not sure this is the right place to ask th...\n",
       "309    https twitter com messages med that s just tod...\n",
       "310    hello i applied for your credit card and i ve ...\n",
       "Name: Message, Length: 311, dtype: object"
      ]
     },
     "execution_count": 81,
     "metadata": {},
     "output_type": "execute_result"
    }
   ],
   "source": [
    "df['Message'] = df['Message'].apply(preprocessor)\n",
    "df['Message']"
   ]
  },
  {
   "cell_type": "code",
   "execution_count": 82,
   "id": "a1738f94",
   "metadata": {},
   "outputs": [],
   "source": [
    "#Using porterstemmer to tokenize all words to their stems\n",
    "porter = PorterStemmer()\n",
    "\n",
    "def tokenizer(text):\n",
    "    return text.split()\n",
    "\n",
    "\n",
    "def tokenizer_porter(text):\n",
    "    return [porter.stem(word) for word in text.split()]"
   ]
  },
  {
   "cell_type": "code",
   "execution_count": 83,
   "id": "0bf437dc",
   "metadata": {},
   "outputs": [
    {
     "data": {
      "text/plain": [
       "['creditonebank',\n",
       " 'my',\n",
       " 'card',\n",
       " 'still',\n",
       " 'hasn',\n",
       " 't',\n",
       " 'shown',\n",
       " 'up',\n",
       " 'in',\n",
       " 'the',\n",
       " 'mail',\n",
       " 'it',\n",
       " 's',\n",
       " 'been',\n",
       " '9',\n",
       " 'days',\n",
       " 'or',\n",
       " 'so',\n",
       " 'since',\n",
       " 'being',\n",
       " 'approved']"
      ]
     },
     "execution_count": 83,
     "metadata": {},
     "output_type": "execute_result"
    }
   ],
   "source": [
    "tokenizer('creditonebank my card still hasn t shown up in the mail it s been 9 days or so since being approved')"
   ]
  },
  {
   "cell_type": "code",
   "execution_count": 84,
   "id": "30c73e69",
   "metadata": {},
   "outputs": [
    {
     "data": {
      "text/plain": [
       "['creditonebank',\n",
       " 'card',\n",
       " 'still',\n",
       " 'shown',\n",
       " 'mail',\n",
       " '9',\n",
       " 'days',\n",
       " 'since',\n",
       " 'approved']"
      ]
     },
     "execution_count": 84,
     "metadata": {},
     "output_type": "execute_result"
    }
   ],
   "source": [
    "# Applying stop words into the streams by iterating through string and only printing the nonstop words\n",
    "[w for w in tokenizer('creditonebank my card still hasn t shown up in the mail it s been 9 days or so since being approved')[0:]\n",
    "if w not in stop]"
   ]
  },
  {
   "cell_type": "code",
   "execution_count": 89,
   "id": "ccea45aa",
   "metadata": {},
   "outputs": [
    {
     "data": {
      "text/plain": [
       "(311, 1386)"
      ]
     },
     "execution_count": 89,
     "metadata": {},
     "output_type": "execute_result"
    }
   ],
   "source": [
    "count = CountVectorizer()\n",
    "docs = np.array(df['Message'])\n",
    "bag = count.fit_transform(docs)\n",
    "bag.shape"
   ]
  },
  {
   "cell_type": "code",
   "execution_count": 93,
   "id": "d5c5168e",
   "metadata": {},
   "outputs": [
    {
     "name": "stdout",
     "output_type": "stream",
     "text": [
      "[[0. 0. 0. ... 0. 0. 0.]\n",
      " [0. 0. 0. ... 0. 0. 0.]\n",
      " [0. 0. 0. ... 0. 0. 0.]\n",
      " ...\n",
      " [0. 0. 0. ... 0. 0. 0.]\n",
      " [0. 0. 0. ... 0. 0. 0.]\n",
      " [0. 0. 0. ... 0. 0. 0.]]\n"
     ]
    }
   ],
   "source": [
    "tfidf = TfidfTransformer(use_idf=True, \n",
    "                         norm='l2', \n",
    "                         smooth_idf=True)\n",
    "print(tfidf.fit_transform(count.fit_transform(docs)).toarray())"
   ]
  },
  {
   "cell_type": "code",
   "execution_count": 97,
   "id": "8022db0b",
   "metadata": {},
   "outputs": [],
   "source": [
    "X_train = df.loc[:200, 'Message'].values\n",
    "y_train = df.loc[:200, 'Sentiment'].values\n",
    "X_test = df.loc[200:, 'Message'].values\n",
    "y_test = df.loc[200:, 'Sentiment'].values"
   ]
  },
  {
   "cell_type": "code",
   "execution_count": 104,
   "id": "ff71a1e7",
   "metadata": {},
   "outputs": [],
   "source": [
    "from sklearn.pipeline import Pipeline\n",
    "from sklearn.linear_model import LogisticRegression\n",
    "from sklearn.feature_extraction.text import TfidfVectorizer\n",
    "from sklearn.model_selection import GridSearchCV\n",
    "\n",
    "tfidf = TfidfVectorizer(strip_accents=None,\n",
    "                        lowercase=False,\n",
    "                        preprocessor=None)\n",
    "\n",
    "param_grid = [{'vect__ngram_range': [(1, 1)],\n",
    "               'vect__stop_words': [stop, None],\n",
    "               'vect__tokenizer': [tokenizer, tokenizer_porter],\n",
    "               'clf__penalty': ['l1', 'l2'],\n",
    "               'clf__C': [1.0, 10.0, 100.0]},\n",
    "              {'vect__ngram_range': [(1, 1)],\n",
    "               'vect__stop_words': [stop, None],\n",
    "               'vect__tokenizer': [tokenizer, tokenizer_porter],\n",
    "               'vect__use_idf':[False],\n",
    "               'vect__norm':[None],\n",
    "               'clf__penalty': ['l1', 'l2'],\n",
    "               'clf__C': [1.0, 10.0, 100.0]},\n",
    "              ]\n",
    "\n",
    "lr_tfidf = Pipeline([('vect', tfidf),\n",
    "                     ('clf', LogisticRegression(random_state=0))])\n",
    "\n",
    "gs_lr_tfidf = GridSearchCV(lr_tfidf, param_grid,\n",
    "                           scoring='accuracy',\n",
    "                           cv=5,\n",
    "                           verbose=1,\n",
    "                           n_jobs=-1)"
   ]
  },
  {
   "cell_type": "code",
   "execution_count": 105,
   "id": "e5a12d6d",
   "metadata": {},
   "outputs": [
    {
     "name": "stdout",
     "output_type": "stream",
     "text": [
      "Fitting 5 folds for each of 48 candidates, totalling 240 fits\n"
     ]
    },
    {
     "name": "stderr",
     "output_type": "stream",
     "text": [
      "/Users/23behmen_t/opt/anaconda3/lib/python3.8/site-packages/sklearn/model_selection/_search.py:918: UserWarning: One or more of the test scores are non-finite: [       nan        nan        nan        nan 0.61731707 0.61695122\n",
      " 0.64695122 0.63695122        nan        nan        nan        nan\n",
      " 0.63756098 0.64195122 0.68170732 0.68182927        nan        nan\n",
      "        nan        nan 0.63756098 0.62695122 0.67182927 0.68195122\n",
      "        nan        nan        nan        nan 0.65695122 0.66670732\n",
      " 0.66207317 0.64743902        nan        nan        nan        nan\n",
      " 0.63743902 0.65682927 0.66719512 0.64719512        nan        nan\n",
      "        nan        nan 0.63743902 0.65195122 0.66231707 0.65219512]\n",
      "  warnings.warn(\n"
     ]
    },
    {
     "data": {
      "text/plain": [
       "GridSearchCV(cv=5,\n",
       "             estimator=Pipeline(steps=[('vect',\n",
       "                                        TfidfVectorizer(lowercase=False)),\n",
       "                                       ('clf',\n",
       "                                        LogisticRegression(random_state=0))]),\n",
       "             n_jobs=-1,\n",
       "             param_grid=[{'clf__C': [1.0, 10.0, 100.0],\n",
       "                          'clf__penalty': ['l1', 'l2'],\n",
       "                          'vect__ngram_range': [(1, 1)],\n",
       "                          'vect__stop_words': [['i', 'me', 'my', 'myself', 'we',\n",
       "                                                'our', 'ours', 'ourselves',\n",
       "                                                'you', \"you're\", \"you've\",\n",
       "                                                \"you'll\", \"you'd\",...\n",
       "                                                'our', 'ours', 'ourselves',\n",
       "                                                'you', \"you're\", \"you've\",\n",
       "                                                \"you'll\", \"you'd\", 'your',\n",
       "                                                'yours', 'yourself',\n",
       "                                                'yourselves', 'he', 'him',\n",
       "                                                'his', 'himself', 'she',\n",
       "                                                \"she's\", 'her', 'hers',\n",
       "                                                'herself', 'it', \"it's\", 'its',\n",
       "                                                'itself', ...],\n",
       "                                               None],\n",
       "                          'vect__tokenizer': [<function tokenizer at 0x11d1f04c0>,\n",
       "                                              <function tokenizer_porter at 0x11d1c1940>],\n",
       "                          'vect__use_idf': [False]}],\n",
       "             scoring='accuracy', verbose=1)"
      ]
     },
     "execution_count": 105,
     "metadata": {},
     "output_type": "execute_result"
    }
   ],
   "source": [
    "gs_lr_tfidf.fit(X_train, y_train)"
   ]
  },
  {
   "cell_type": "code",
   "execution_count": 106,
   "id": "4cd5d93d",
   "metadata": {},
   "outputs": [
    {
     "name": "stdout",
     "output_type": "stream",
     "text": [
      "Best parameter set: {'clf__C': 100.0, 'clf__penalty': 'l2', 'vect__ngram_range': (1, 1), 'vect__stop_words': None, 'vect__tokenizer': <function tokenizer_porter at 0x11d1c1940>} \n",
      "CV Accuracy: 0.682\n"
     ]
    }
   ],
   "source": [
    "print('Best parameter set: %s ' % gs_lr_tfidf.best_params_)\n",
    "print('CV Accuracy: %.3f' % gs_lr_tfidf.best_score_)"
   ]
  },
  {
   "cell_type": "code",
   "execution_count": 108,
   "id": "109edb4e",
   "metadata": {},
   "outputs": [],
   "source": [
    "import matplotlib.pyplot as plt\n",
    "%matplotlib inline\n",
    "\n",
    "from wordcloud import WordCloud, STOPWORDS"
   ]
  },
  {
   "cell_type": "code",
   "execution_count": 117,
   "id": "a5cd1df2",
   "metadata": {},
   "outputs": [
    {
     "data": {
      "image/png": "[encoded data removed]",
      "text/plain": [
       "<Figure size 432x288 with 1 Axes>"
      ]
     },
     "metadata": {
      "needs_background": "light"
     },
     "output_type": "display_data"
    }
   ],
   "source": [
    "combined_text = \" \".join([review for review in df['Message']])\n",
    "# Initialize wordcloud object\n",
    "wc = WordCloud(background_color='white', max_words=100,\n",
    "        # update stopwords to include common words like the, in, was.....\n",
    "        stopwords = STOPWORDS.update(['the','in','was','my','creditonebank','account','hi', 'Thank','Hello','will','now']))\n",
    "\n",
    "# Generate and plot wordcloud\n",
    "plt.imshow(wc.generate(combined_text))\n",
    "plt.axis('off')\n",
    "plt.show()"
   ]
  },
  {
   "cell_type": "code",
   "execution_count": null,
   "id": "01fabc37",
   "metadata": {},
   "outputs": [],
   "source": []
  }
 ],
 "metadata": {
  "kernelspec": {
   "display_name": "Python 3",
   "language": "python",
   "name": "python3"
  },
  "language_info": {
   "codemirror_mode": {
    "name": "ipython",
    "version": 3
   },
   "file_extension": ".py",
   "mimetype": "text/x-python",
   "name": "python",
   "nbconvert_exporter": "python",
   "pygments_lexer": "ipython3",
   "version": "3.8.8"
  }
 },
 "nbformat": 4,
 "nbformat_minor": 5
}
