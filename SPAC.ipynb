{
 "cells": [
  {
   "cell_type": "code",
   "execution_count": 28,
   "id": "04b418e7",
   "metadata": {},
   "outputs": [],
   "source": [
    "import pandas as pd\n",
    "import numpy as np\n",
    "import seaborn as sns\n",
    "import matplotlib.pyplot as plt\n",
    "from matplotlib import pyplot\n",
    "pd.options.display.max_columns=368\n",
    "pd.options.display.max_rows=368\n",
    "xls = pd.ExcelFile('/Users/23behmen_t/Downloads/SPAC-Mar2021.xlsx')\n",
    "df = pd.read_excel(xls)\n",
    "df1 = pd.read_excel(xls, 'SPACS')\n",
    "df2 = pd.read_excel(xls, 'SPAC Types')\n",
    "df3 = pd.read_excel(xls, 'SeekingTgt') # Seeking Target\n",
    "df4 = pd.read_excel(xls, 'AnnouncedTgt')  # Announced Target"
   ]
  },
  {
   "cell_type": "code",
   "execution_count": 30,
   "id": "db47186b",
   "metadata": {},
   "outputs": [
    {
     "data": {
      "text/plain": [
       "107"
      ]
     },
     "execution_count": 30,
     "metadata": {},
     "output_type": "execute_result"
    }
   ],
   "source": [
    "(df3['ROI']>10).sum()"
   ]
  },
  {
   "cell_type": "code",
   "execution_count": 33,
   "id": "14a37170",
   "metadata": {},
   "outputs": [
    {
     "data": {
      "text/plain": [
       "10"
      ]
     },
     "execution_count": 33,
     "metadata": {},
     "output_type": "execute_result"
    }
   ],
   "source": [
    "(df3['industry']=='Technology').sum()"
   ]
  },
  {
   "cell_type": "code",
   "execution_count": 41,
   "id": "186740bf",
   "metadata": {},
   "outputs": [
    {
     "data": {
      "text/plain": [
       "<AxesSubplot:xlabel='var 2', ylabel='ROI'>"
      ]
     },
     "execution_count": 41,
     "metadata": {},
     "output_type": "execute_result"
    },
    {
     "data": {
      "image/png": "[encoded data removed]",
      "text/plain": [
       "<Figure size 432x288 with 1 Axes>"
      ]
     },
     "metadata": {
      "needs_background": "light"
     },
     "output_type": "display_data"
    }
   ],
   "source": [
    "sns.scatterplot(x=\"var 2\", y=\"ROI\", data=df3)"
   ]
  },
  {
   "cell_type": "code",
   "execution_count": 45,
   "id": "f840b64b",
   "metadata": {},
   "outputs": [
    {
     "data": {
      "text/plain": [
       "175"
      ]
     },
     "execution_count": 45,
     "metadata": {},
     "output_type": "execute_result"
    }
   ],
   "source": [
    "df3.underwriter.nunique()\n"
   ]
  },
  {
   "cell_type": "code",
   "execution_count": 50,
   "id": "168b5dc5",
   "metadata": {},
   "outputs": [
    {
     "data": {
      "text/plain": [
       "0      345.00\n",
       "1      275.00\n",
       "2      300.00\n",
       "3      345.00\n",
       "4      201.25\n",
       "5      254.35\n",
       "6      300.00\n",
       "7      275.00\n",
       "8      805.00\n",
       "9      500.00\n",
       "10     350.00\n",
       "11     450.00\n",
       "12     258.75\n",
       "13     230.00\n",
       "14     460.00\n",
       "15     230.00\n",
       "16     200.00\n",
       "17     277.50\n",
       "18     230.00\n",
       "19     500.00\n",
       "20     200.00\n",
       "21    1467.03\n",
       "22     250.00\n",
       "23     383.59\n",
       "24     319.45\n",
       "25     276.00\n",
       "26     120.75\n",
       "27     230.00\n",
       "28     229.78\n",
       "29     143.75\n",
       "30     143.75\n",
       "31     414.00\n",
       "32      57.50\n",
       "33    1035.00\n",
       "34     414.00\n",
       "35     100.00\n",
       "36     200.00\n",
       "37     690.00\n",
       "38      76.50\n",
       "39     150.00\n",
       "40     414.00\n",
       "41     138.00\n",
       "42      57.50\n",
       "43     241.50\n",
       "44     258.75\n",
       "45     287.50\n",
       "46     345.00\n",
       "47     172.50\n",
       "48     250.00\n",
       "49     350.00\n",
       "50     275.00\n",
       "51     230.00\n",
       "52     345.00\n",
       "53     250.00\n",
       "54     314.12\n",
       "55     690.00\n",
       "56     172.50\n",
       "57     287.50\n",
       "58     287.50\n",
       "59     250.00\n",
       "60     108.00\n",
       "61     220.52\n",
       "62     114.88\n",
       "63      40.00\n",
       "64      69.00\n",
       "Name: total, dtype: float64"
      ]
     },
     "execution_count": 50,
     "metadata": {},
     "output_type": "execute_result"
    }
   ],
   "source": [
    "df4['total']"
   ]
  },
  {
   "cell_type": "code",
   "execution_count": 60,
   "id": "faf0663f",
   "metadata": {},
   "outputs": [
    {
     "data": {
      "text/plain": [
       "<AxesSubplot:xlabel='heldintrustperunit', ylabel='implied_cash_per_share'>"
      ]
     },
     "execution_count": 60,
     "metadata": {},
     "output_type": "execute_result"
    },
    {
     "data": {
      "image/png": "[encoded data removed]",
      "text/plain": [
       "<Figure size 432x288 with 1 Axes>"
      ]
     },
     "metadata": {
      "needs_background": "light"
     },
     "output_type": "display_data"
    }
   ],
   "source": [
    "sns.scatterplot(x=\"heldintrustperunit\", y=\"implied_cash_per_share\", data=df3)"
   ]
  },
  {
   "cell_type": "code",
   "execution_count": 68,
   "id": "6b20972c",
   "metadata": {},
   "outputs": [],
   "source": [
    "d = df3[['heldintrustperunit','ROI','Total Amount']]"
   ]
  },
  {
   "cell_type": "code",
   "execution_count": 69,
   "id": "9315bfb4",
   "metadata": {},
   "outputs": [
    {
     "data": {
      "text/plain": [
       "<AxesSubplot:>"
      ]
     },
     "execution_count": 69,
     "metadata": {},
     "output_type": "execute_result"
    },
    {
     "data": {
      "image/png": "[encoded data removed]",
      "text/plain": [
       "<Figure size 432x288 with 2 Axes>"
      ]
     },
     "metadata": {
      "needs_background": "light"
     },
     "output_type": "display_data"
    }
   ],
   "source": [
    "sns.heatmap(d.corr(), fmt = \"0.2f\")"
   ]
  },
  {
   "cell_type": "code",
   "execution_count": 71,
   "id": "c5b19595",
   "metadata": {},
   "outputs": [
    {
     "name": "stderr",
     "output_type": "stream",
     "text": [
      "/Users/23behmen_t/opt/anaconda3/lib/python3.8/site-packages/seaborn/distributions.py:2557: FutureWarning: `distplot` is a deprecated function and will be removed in a future version. Please adapt your code to use either `displot` (a figure-level function with similar flexibility) or `histplot` (an axes-level function for histograms).\n",
      "  warnings.warn(msg, FutureWarning)\n"
     ]
    },
    {
     "data": {
      "text/plain": [
       "<AxesSubplot:xlabel='ROI', ylabel='Density'>"
      ]
     },
     "execution_count": 71,
     "metadata": {},
     "output_type": "execute_result"
    },
    {
     "data": {
      "image/png": "[encoded data removed]",
      "text/plain": [
       "<Figure size 432x288 with 1 Axes>"
      ]
     },
     "metadata": {
      "needs_background": "light"
     },
     "output_type": "display_data"
    }
   ],
   "source": [
    "sns.distplot(df3['ROI'], kde = True)"
   ]
  },
  {
   "cell_type": "code",
   "execution_count": null,
   "id": "a153b45c",
   "metadata": {},
   "outputs": [],
   "source": []
  }
 ],
 "metadata": {
  "kernelspec": {
   "display_name": "Python 3",
   "language": "python",
   "name": "python3"
  },
  "language_info": {
   "codemirror_mode": {
    "name": "ipython",
    "version": 3
   },
   "file_extension": ".py",
   "mimetype": "text/x-python",
   "name": "python",
   "nbconvert_exporter": "python",
   "pygments_lexer": "ipython3",
   "version": "3.8.8"
  }
 },
 "nbformat": 4,
 "nbformat_minor": 5
}
