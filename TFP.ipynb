import numpy as np
import pandas as pd
DF = pd.read_csv('/Users/23behmen_t/Desktop/Columbia Programming/Columbia.csv', index_col=0)